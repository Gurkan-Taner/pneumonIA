{
 "cells": [
  {
   "cell_type": "code",
   "execution_count": 1,
   "metadata": {},
   "outputs": [],
   "source": [
    "import os\n",
    "import numpy as np\n",
    "from PIL import Image\n",
    "from sklearn.neighbors import KNeighborsClassifier\n",
    "from sklearn.metrics import accuracy_score\n",
    "import pickle"
   ]
  },
  {
   "cell_type": "code",
   "execution_count": 6,
   "metadata": {},
   "outputs": [],
   "source": [
    "def load_images_from_folder(folder, label):\n",
    "    images = []\n",
    "    labels = []\n",
    "    for filename in os.listdir(folder):\n",
    "        img_path = os.path.join(folder, filename)\n",
    "        img = Image.open(img_path).convert('L')\n",
    "        img = img.resize((32, 32))\n",
    "        img_array = np.array(img) / 255.0\n",
    "        images.append(img_array)\n",
    "        labels.append(label)\n",
    "    return images, labels"
   ]
  },
  {
   "cell_type": "code",
   "execution_count": 3,
   "metadata": {},
   "outputs": [],
   "source": [
    "def load_dataset(base_path):\n",
    "    X_train, y_train = [], []\n",
    "    X_val, y_val = [], []\n",
    "\n",
    "    for dataset in ['train_bak', 'val']:\n",
    "        for label in ['PNEUMONIA', 'NORMAL']:\n",
    "            folder = os.path.join(base_path, dataset, label)\n",
    "            images, labels = load_images_from_folder(folder, label)\n",
    "            if dataset == 'train_bak':\n",
    "                X_train.extend(images)\n",
    "                y_train.extend(labels)\n",
    "            elif dataset == 'val':\n",
    "                X_val.extend(images)\n",
    "                y_val.extend(labels)\n",
    "            # elif dataset == 'test':\n",
    "            #     X_test.extend(images)\n",
    "            #     y_test.extend(labels)\n",
    "\n",
    "    return (np.array(X_train), np.array(y_train),\n",
    "            np.array(X_val), np.array(y_val))"
   ]
  },
  {
   "cell_type": "code",
   "execution_count": 7,
   "metadata": {},
   "outputs": [],
   "source": [
    "base_path = './datasets/'\n",
    "X_train, y_train, X_val, y_val = load_dataset(base_path)"
   ]
  },
  {
   "cell_type": "code",
   "execution_count": 5,
   "metadata": {},
   "outputs": [
    {
     "name": "stdout",
     "output_type": "stream",
     "text": [
      "Number of images in dataset: 5840\n",
      "Shape of X_train: (5840, 32, 32)\n"
     ]
    }
   ],
   "source": [
    "print(f'Number of images in dataset: {len(X_train)}')\n",
    "print(f'Shape of X_train: {np.shape(X_train)}')"
   ]
  },
  {
   "cell_type": "code",
   "execution_count": 6,
   "metadata": {},
   "outputs": [],
   "source": [
    "from sklearn.model_selection import train_test_split\n",
    "\n",
    "X_train, X_test, y_train, y_test = train_test_split(X_train, y_train, test_size=0.20, random_state=42)"
   ]
  },
  {
   "cell_type": "code",
   "execution_count": 7,
   "metadata": {},
   "outputs": [
    {
     "name": "stdout",
     "output_type": "stream",
     "text": [
      "Number of images in train split: 4672\n",
      "Number of images in test split: 1168\n"
     ]
    }
   ],
   "source": [
    "print(f'Number of images in train split: {len(X_train)}')\n",
    "print(f'Number of images in test split: {len(X_test)}')"
   ]
  },
  {
   "cell_type": "code",
   "execution_count": 8,
   "metadata": {},
   "outputs": [],
   "source": [
    "nsamples, nx, ny = X_train.shape\n",
    "X_train = X_train.reshape((nsamples,nx*ny))"
   ]
  },
  {
   "cell_type": "code",
   "execution_count": 9,
   "metadata": {},
   "outputs": [],
   "source": [
    "X_train = X_train[:3500]\n",
    "y_train = y_train[:3500]"
   ]
  },
  {
   "cell_type": "code",
   "execution_count": 10,
   "metadata": {},
   "outputs": [
    {
     "data": {
      "text/html": [
       "<style>#sk-container-id-1 {color: black;}#sk-container-id-1 pre{padding: 0;}#sk-container-id-1 div.sk-toggleable {background-color: white;}#sk-container-id-1 label.sk-toggleable__label {cursor: pointer;display: block;width: 100%;margin-bottom: 0;padding: 0.3em;box-sizing: border-box;text-align: center;}#sk-container-id-1 label.sk-toggleable__label-arrow:before {content: \"▸\";float: left;margin-right: 0.25em;color: #696969;}#sk-container-id-1 label.sk-toggleable__label-arrow:hover:before {color: black;}#sk-container-id-1 div.sk-estimator:hover label.sk-toggleable__label-arrow:before {color: black;}#sk-container-id-1 div.sk-toggleable__content {max-height: 0;max-width: 0;overflow: hidden;text-align: left;background-color: #f0f8ff;}#sk-container-id-1 div.sk-toggleable__content pre {margin: 0.2em;color: black;border-radius: 0.25em;background-color: #f0f8ff;}#sk-container-id-1 input.sk-toggleable__control:checked~div.sk-toggleable__content {max-height: 200px;max-width: 100%;overflow: auto;}#sk-container-id-1 input.sk-toggleable__control:checked~label.sk-toggleable__label-arrow:before {content: \"▾\";}#sk-container-id-1 div.sk-estimator input.sk-toggleable__control:checked~label.sk-toggleable__label {background-color: #d4ebff;}#sk-container-id-1 div.sk-label input.sk-toggleable__control:checked~label.sk-toggleable__label {background-color: #d4ebff;}#sk-container-id-1 input.sk-hidden--visually {border: 0;clip: rect(1px 1px 1px 1px);clip: rect(1px, 1px, 1px, 1px);height: 1px;margin: -1px;overflow: hidden;padding: 0;position: absolute;width: 1px;}#sk-container-id-1 div.sk-estimator {font-family: monospace;background-color: #f0f8ff;border: 1px dotted black;border-radius: 0.25em;box-sizing: border-box;margin-bottom: 0.5em;}#sk-container-id-1 div.sk-estimator:hover {background-color: #d4ebff;}#sk-container-id-1 div.sk-parallel-item::after {content: \"\";width: 100%;border-bottom: 1px solid gray;flex-grow: 1;}#sk-container-id-1 div.sk-label:hover label.sk-toggleable__label {background-color: #d4ebff;}#sk-container-id-1 div.sk-serial::before {content: \"\";position: absolute;border-left: 1px solid gray;box-sizing: border-box;top: 0;bottom: 0;left: 50%;z-index: 0;}#sk-container-id-1 div.sk-serial {display: flex;flex-direction: column;align-items: center;background-color: white;padding-right: 0.2em;padding-left: 0.2em;position: relative;}#sk-container-id-1 div.sk-item {position: relative;z-index: 1;}#sk-container-id-1 div.sk-parallel {display: flex;align-items: stretch;justify-content: center;background-color: white;position: relative;}#sk-container-id-1 div.sk-item::before, #sk-container-id-1 div.sk-parallel-item::before {content: \"\";position: absolute;border-left: 1px solid gray;box-sizing: border-box;top: 0;bottom: 0;left: 50%;z-index: -1;}#sk-container-id-1 div.sk-parallel-item {display: flex;flex-direction: column;z-index: 1;position: relative;background-color: white;}#sk-container-id-1 div.sk-parallel-item:first-child::after {align-self: flex-end;width: 50%;}#sk-container-id-1 div.sk-parallel-item:last-child::after {align-self: flex-start;width: 50%;}#sk-container-id-1 div.sk-parallel-item:only-child::after {width: 0;}#sk-container-id-1 div.sk-dashed-wrapped {border: 1px dashed gray;margin: 0 0.4em 0.5em 0.4em;box-sizing: border-box;padding-bottom: 0.4em;background-color: white;}#sk-container-id-1 div.sk-label label {font-family: monospace;font-weight: bold;display: inline-block;line-height: 1.2em;}#sk-container-id-1 div.sk-label-container {text-align: center;}#sk-container-id-1 div.sk-container {/* jupyter's `normalize.less` sets `[hidden] { display: none; }` but bootstrap.min.css set `[hidden] { display: none !important; }` so we also need the `!important` here to be able to override the default hidden behavior on the sphinx rendered scikit-learn.org. See: https://github.com/scikit-learn/scikit-learn/issues/21755 */display: inline-block !important;position: relative;}#sk-container-id-1 div.sk-text-repr-fallback {display: none;}</style><div id=\"sk-container-id-1\" class=\"sk-top-container\"><div class=\"sk-text-repr-fallback\"><pre>KNeighborsClassifier(algorithm=&#x27;ball_tree&#x27;, n_neighbors=4)</pre><b>In a Jupyter environment, please rerun this cell to show the HTML representation or trust the notebook. <br />On GitHub, the HTML representation is unable to render, please try loading this page with nbviewer.org.</b></div><div class=\"sk-container\" hidden><div class=\"sk-item\"><div class=\"sk-estimator sk-toggleable\"><input class=\"sk-toggleable__control sk-hidden--visually\" id=\"sk-estimator-id-1\" type=\"checkbox\" checked><label for=\"sk-estimator-id-1\" class=\"sk-toggleable__label sk-toggleable__label-arrow\">KNeighborsClassifier</label><div class=\"sk-toggleable__content\"><pre>KNeighborsClassifier(algorithm=&#x27;ball_tree&#x27;, n_neighbors=4)</pre></div></div></div></div></div>"
      ],
      "text/plain": [
       "KNeighborsClassifier(algorithm='ball_tree', n_neighbors=4)"
      ]
     },
     "execution_count": 10,
     "metadata": {},
     "output_type": "execute_result"
    }
   ],
   "source": [
    "knn = KNeighborsClassifier(n_neighbors=4, algorithm='ball_tree', weights='uniform')\n",
    "knn.fit(X=X_train, y=y_train)"
   ]
  },
  {
   "cell_type": "code",
   "execution_count": 11,
   "metadata": {},
   "outputs": [],
   "source": [
    "pickle.dump(knn, open(\"knn.pkl\", 'wb'))"
   ]
  },
  {
   "cell_type": "code",
   "execution_count": 12,
   "metadata": {},
   "outputs": [
    {
     "name": "stdout",
     "output_type": "stream",
     "text": [
      "Number of images in dataset: 1168\n",
      "Shape of X_test: (1168, 32, 32)\n"
     ]
    }
   ],
   "source": [
    "print(f'Number of images in dataset: {len(X_test)}')\n",
    "print(f'Shape of X_test: {np.shape(X_test)}')"
   ]
  },
  {
   "cell_type": "code",
   "execution_count": 13,
   "metadata": {},
   "outputs": [],
   "source": [
    "nsamples, nx, ny = X_test.shape\n",
    "X_test = X_test.reshape((nsamples,nx*ny))"
   ]
  },
  {
   "cell_type": "code",
   "execution_count": 15,
   "metadata": {},
   "outputs": [
    {
     "name": "stdout",
     "output_type": "stream",
     "text": [
      "Test Accuracy: 92.81%\n"
     ]
    }
   ],
   "source": [
    "y_pred = knn.predict(X_test)\n",
    "y_acc = accuracy_score(y_true=y_test, y_pred=y_pred)\n",
    "print(f'Test Accuracy: {y_acc * 100:.2f}%')"
   ]
  },
  {
   "cell_type": "code",
   "execution_count": 16,
   "metadata": {},
   "outputs": [],
   "source": [
    "from sklearn import metrics\n",
    "from sklearn.metrics import classification_report\n",
    "import matplotlib.pyplot as plt "
   ]
  },
  {
   "cell_type": "code",
   "execution_count": 17,
   "metadata": {},
   "outputs": [
    {
     "name": "stdout",
     "output_type": "stream",
     "text": [
      "[[266  42]\n",
      " [ 42 818]]\n"
     ]
    }
   ],
   "source": [
    "y_matrix = metrics.confusion_matrix(y_true=y_test, y_pred=y_pred)\n",
    "print(y_matrix)"
   ]
  },
  {
   "cell_type": "code",
   "execution_count": 18,
   "metadata": {},
   "outputs": [
    {
     "name": "stdout",
     "output_type": "stream",
     "text": [
      "              precision    recall  f1-score   support\n",
      "\n",
      "      NORMAL       0.86      0.86      0.86       308\n",
      "   PNEUMONIA       0.95      0.95      0.95       860\n",
      "\n",
      "    accuracy                           0.93      1168\n",
      "   macro avg       0.91      0.91      0.91      1168\n",
      "weighted avg       0.93      0.93      0.93      1168\n",
      "\n"
     ]
    }
   ],
   "source": [
    "print(classification_report(y_true=y_test, y_pred=y_pred))"
   ]
  },
  {
   "cell_type": "code",
   "execution_count": 19,
   "metadata": {},
   "outputs": [
    {
     "data": {
      "image/png": "[encoded data removed]",
      "text/plain": [
       "<Figure size 750x750 with 1 Axes>"
      ]
     },
     "metadata": {},
     "output_type": "display_data"
    }
   ],
   "source": [
    "fig, ax = plt.subplots(figsize=(7.5, 7.5))\n",
    "ax.matshow(y_matrix, cmap=plt.cm.Blues, alpha=0.3)\n",
    "for i in range(y_matrix.shape[0]):\n",
    "    for j in range(y_matrix.shape[1]):\n",
    "        ax.text(x=j, y=i,s=y_matrix[i, j], va='center', ha='center', size='xx-large')\n",
    " \n",
    "plt.xlabel('Predictions', fontsize=18)\n",
    "plt.ylabel('Actuals', fontsize=18)\n",
    "plt.title('Confusion Matrix', fontsize=18)\n",
    "plt.show()"
   ]
  },
  {
   "cell_type": "code",
   "execution_count": 20,
   "metadata": {},
   "outputs": [],
   "source": [
    "y_test_processed = [0 if label == 'NORMAL' else 1 for label in y_test]\n",
    "\n",
    "y_pred_processed = [0 if label == 'NORMAL' else 1 for label in y_pred]\n",
    "\n",
    "fpr, tpr, _ = metrics.roc_curve(y_true=y_test_processed, y_score=y_pred_processed, pos_label=1)"
   ]
  },
  {
   "cell_type": "code",
   "execution_count": 21,
   "metadata": {},
   "outputs": [
    {
     "data": {
      "image/png": "[encoded data removed]",
      "text/plain": [
       "<Figure size 640x480 with 1 Axes>"
      ]
     },
     "metadata": {},
     "output_type": "display_data"
    }
   ],
   "source": [
    "auc = metrics.roc_auc_score(y_true=y_test_processed, y_score=y_pred_processed)\n",
    "plt.plot(fpr,tpr,label=\"area=\"+str(auc))\n",
    "plt.legend(loc=4)\n",
    "plt.show()"
   ]
  },
  {
   "cell_type": "code",
   "execution_count": 22,
   "metadata": {},
   "outputs": [],
   "source": [
    "nsamples, nx, ny = X_val.shape\n",
    "X_val = X_val.reshape((nsamples,nx*ny))"
   ]
  },
  {
   "cell_type": "code",
   "execution_count": 23,
   "metadata": {},
   "outputs": [],
   "source": [
    "X_val, _, y_val, _ = train_test_split(X_val, y_val, test_size=0.01, random_state=42)"
   ]
  },
  {
   "cell_type": "code",
   "execution_count": 24,
   "metadata": {},
   "outputs": [
    {
     "name": "stdout",
     "output_type": "stream",
     "text": [
      "Validation Accuracy: 80.00%\n"
     ]
    }
   ],
   "source": [
    "y_val_pred = knn.predict(X_val)\n",
    "val_accuracy = accuracy_score(y_true=y_val, y_pred=y_val_pred)\n",
    "print(f'Validation Accuracy: {val_accuracy * 100:.2f}%')"
   ]
  },
  {
   "cell_type": "code",
   "execution_count": 25,
   "metadata": {},
   "outputs": [
    {
     "name": "stdout",
     "output_type": "stream",
     "text": [
      "              precision    recall  f1-score   support\n",
      "\n",
      "      NORMAL       1.00      0.62      0.77         8\n",
      "   PNEUMONIA       0.70      1.00      0.82         7\n",
      "\n",
      "    accuracy                           0.80        15\n",
      "   macro avg       0.85      0.81      0.80        15\n",
      "weighted avg       0.86      0.80      0.79        15\n",
      "\n"
     ]
    }
   ],
   "source": [
    "print(classification_report(y_true=y_val, y_pred=y_val_pred))"
   ]
  },
  {
   "cell_type": "code",
   "execution_count": 509,
   "metadata": {},
   "outputs": [
    {
     "name": "stdout",
     "output_type": "stream",
     "text": [
      "N = 1\n",
      "================\n",
      "Test split prediction\n",
      "Test Accuracy: 92.47%\n",
      "================\n",
      "Val split prediction\n",
      "Validation Accuracy: 53.33%\n",
      "================\n",
      "================\n",
      "N = 2\n",
      "================\n",
      "Test split prediction\n",
      "Test Accuracy: 90.41%\n",
      "================\n",
      "Val split prediction\n",
      "Validation Accuracy: 60.00%\n",
      "================\n",
      "================\n",
      "N = 3\n",
      "================\n",
      "Test split prediction\n",
      "Test Accuracy: 92.98%\n",
      "================\n",
      "Val split prediction\n",
      "Validation Accuracy: 60.00%\n",
      "================\n",
      "================\n",
      "N = 4\n",
      "================\n",
      "Test split prediction\n",
      "Test Accuracy: 92.81%\n",
      "================\n",
      "Val split prediction\n",
      "Validation Accuracy: 80.00%\n",
      "================\n",
      "================\n",
      "N = 5\n",
      "================\n",
      "Test split prediction\n",
      "Test Accuracy: 92.98%\n",
      "================\n",
      "Val split prediction\n",
      "Validation Accuracy: 60.00%\n",
      "================\n",
      "================\n",
      "N = 6\n",
      "================\n",
      "Test split prediction\n",
      "Test Accuracy: 92.64%\n",
      "================\n",
      "Val split prediction\n",
      "Validation Accuracy: 60.00%\n",
      "================\n",
      "================\n",
      "N = 7\n",
      "================\n",
      "Test split prediction\n",
      "Test Accuracy: 92.98%\n",
      "================\n",
      "Val split prediction\n",
      "Validation Accuracy: 53.33%\n",
      "================\n",
      "================\n",
      "N = 8\n",
      "================\n",
      "Test split prediction\n",
      "Test Accuracy: 92.89%\n",
      "================\n",
      "Val split prediction\n",
      "Validation Accuracy: 53.33%\n",
      "================\n",
      "================\n",
      "N = 9\n",
      "================\n",
      "Test split prediction\n",
      "Test Accuracy: 92.47%\n",
      "================\n",
      "Val split prediction\n",
      "Validation Accuracy: 46.67%\n",
      "================\n",
      "================\n",
      "N = 10\n",
      "================\n",
      "Test split prediction\n",
      "Test Accuracy: 92.98%\n",
      "================\n",
      "Val split prediction\n",
      "Validation Accuracy: 53.33%\n",
      "================\n",
      "================\n",
      "Best N for n_neighbor parameter: 4 with 80.00%\n"
     ]
    }
   ],
   "source": [
    "n = 1\n",
    "best_score = 0\n",
    "best_n = 1\n",
    "while(n < 11):\n",
    "    knn = KNeighborsClassifier(n_neighbors=n, algorithm='ball_tree', weights='uniform')\n",
    "    knn.fit(X=X_train, y=y_train)\n",
    "    print(f'N = {n}')\n",
    "    print('================')\n",
    "    print('Test split prediction')\n",
    "    y_pred = knn.predict(X_test)\n",
    "    y_acc = accuracy_score(y_true=y_test, y_pred=y_pred)\n",
    "    print(f'Test Accuracy: {y_acc * 100:.2f}%')\n",
    "    print('================')\n",
    "    print('Val split prediction')\n",
    "    y_val_pred = knn.predict(X_val)\n",
    "    val_accuracy = accuracy_score(y_true=y_val, y_pred=y_val_pred)\n",
    "    print(f'Validation Accuracy: {val_accuracy * 100:.2f}%')\n",
    "    print('================')\n",
    "    print('================')\n",
    "    if(best_score < val_accuracy) : \n",
    "        best_score = val_accuracy\n",
    "        best_n = n\n",
    "    n += 1\n",
    "\n",
    "print(f'Best N for n_neighbor parameter: {best_n} with {best_score * 100:.2f}%')"
   ]
  },
  {
   "cell_type": "code",
   "execution_count": 26,
   "metadata": {},
   "outputs": [
    {
     "data": {
      "text/plain": [
       "array([[5, 3],\n",
       "       [0, 7]])"
      ]
     },
     "execution_count": 26,
     "metadata": {},
     "output_type": "execute_result"
    }
   ],
   "source": [
    "val_matrix = metrics.confusion_matrix(y_val, y_val_pred)\n",
    "val_matrix"
   ]
  },
  {
   "cell_type": "code",
   "execution_count": 27,
   "metadata": {},
   "outputs": [
    {
     "data": {
      "image/png": "[encoded data removed]",
      "text/plain": [
       "<Figure size 750x750 with 1 Axes>"
      ]
     },
     "metadata": {},
     "output_type": "display_data"
    }
   ],
   "source": [
    "fig, ax = plt.subplots(figsize=(7.5, 7.5))\n",
    "ax.matshow(val_matrix, cmap=plt.cm.Blues, alpha=0.3)\n",
    "for i in range(val_matrix.shape[0]):\n",
    "    for j in range(val_matrix.shape[1]):\n",
    "        ax.text(x=j, y=i,s=val_matrix[i, j], va='center', ha='center', size='xx-large')\n",
    " \n",
    "plt.xlabel('Predictions', fontsize=18)\n",
    "plt.ylabel('Actuals', fontsize=18)\n",
    "plt.title('Confusion Matrix', fontsize=18)\n",
    "plt.show()"
   ]
  },
  {
   "cell_type": "code",
   "execution_count": 28,
   "metadata": {},
   "outputs": [],
   "source": [
    "y_val_processed = [0 if label == 'NORMAL' else 1 for label in y_val]\n",
    "\n",
    "y_predicted_processed = [0 if label == 'NORMAL' else 1 for label in y_val_pred]\n",
    "\n",
    "fpr, tpr, _ = metrics.roc_curve(y_true=y_val_processed, y_score=y_predicted_processed, pos_label=1)"
   ]
  },
  {
   "cell_type": "code",
   "execution_count": 29,
   "metadata": {},
   "outputs": [
    {
     "data": {
      "text/plain": [
       "<matplotlib.legend.Legend at 0x17a7a2ac0>"
      ]
     },
     "execution_count": 29,
     "metadata": {},
     "output_type": "execute_result"
    },
    {
     "data": {
      "image/png": "[encoded data removed]",
      "text/plain": [
       "<Figure size 640x480 with 1 Axes>"
      ]
     },
     "metadata": {},
     "output_type": "display_data"
    }
   ],
   "source": [
    "auc = metrics.roc_auc_score(y_true=y_val_processed, y_score=y_predicted_processed)\n",
    "plt.plot(fpr,tpr,label=\"area=\"+str(auc))\n",
    "plt.legend(loc=4)"
   ]
  },
  {
   "cell_type": "code",
   "execution_count": 277,
   "metadata": {},
   "outputs": [],
   "source": [
    "from sklearn.model_selection import GridSearchCV"
   ]
  },
  {
   "cell_type": "code",
   "execution_count": 351,
   "metadata": {},
   "outputs": [
    {
     "name": "stdout",
     "output_type": "stream",
     "text": [
      "Fitting 10 folds for each of 10 candidates, totalling 100 fits\n"
     ]
    },
    {
     "name": "stderr",
     "output_type": "stream",
     "text": [
      "/Users/gurkan/Library/Python/3.9/lib/python/site-packages/sklearn/model_selection/_split.py:737: UserWarning: The least populated class in y has only 4 members, which is less than n_splits=10.\n",
      "  warnings.warn(\n"
     ]
    }
   ],
   "source": [
    "\n",
    "n_neighbors = list(range(1,11))\n",
    "parameters = dict(n_neighbors=n_neighbors)\n",
    "grid = GridSearchCV(knn, parameters, cv=10, scoring='accuracy', return_train_score=False,verbose=1)\n",
    "\n",
    "grid_search=grid.fit(X=X_train, y=y_train)"
   ]
  },
  {
   "cell_type": "code",
   "execution_count": 352,
   "metadata": {},
   "outputs": [
    {
     "name": "stdout",
     "output_type": "stream",
     "text": [
      "{'n_neighbors': 4}\n",
      "Accuracy for our training dataset with tuning is : 85.00%\n"
     ]
    }
   ],
   "source": [
    "print(grid_search.best_params_)\n",
    "# {'algorithm': 'ball_tree', 'leaf_size': 30, 'n_neighbors': 10, 'weights': 'distance'}\n",
    "# {'algorithm': 'ball_tree', 'leaf_size': 25, 'n_neighbors': 10, 'weights': 'distance'}\n",
    "# {'algorithm': 'ball_tree', 'leaf_size': 20, 'n_neighbors': 10, 'weights': 'distance'}\n",
    "# {'algorithm': 'ball_tree', 'leaf_size': 15, 'n_neighbors': 10, 'weights': 'distance'}\n",
    "accuracy = grid_search.best_score_ *100\n",
    "print(\"Accuracy for our training dataset with tuning is : {:.2f}%\".format(accuracy) )"
   ]
  }
 ],
 "metadata": {
  "kernelspec": {
   "display_name": "Python 3",
   "language": "python",
   "name": "python3"
  },
  "language_info": {
   "codemirror_mode": {
    "name": "ipython",
    "version": 3
   },
   "file_extension": ".py",
   "mimetype": "text/x-python",
   "name": "python",
   "nbconvert_exporter": "python",
   "pygments_lexer": "ipython3",
   "version": "3.9.6"
  }
 },
 "nbformat": 4,
 "nbformat_minor": 2
}
